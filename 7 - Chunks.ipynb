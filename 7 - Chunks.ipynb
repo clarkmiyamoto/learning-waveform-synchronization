{
 "cells": [
  {
   "cell_type": "code",
   "execution_count": 1,
   "id": "8ed5843c",
   "metadata": {},
   "outputs": [],
   "source": [
    "import numpy as np\n",
    "import scipy.fftpack\n",
    "import librosa\n",
    "import os"
   ]
  },
  {
   "cell_type": "code",
   "execution_count": 5,
   "id": "0d97cba6",
   "metadata": {},
   "outputs": [],
   "source": [
    "audio_data, sample_rate = librosa.load('108-42.aiff')"
   ]
  },
  {
   "cell_type": "code",
   "execution_count": 6,
   "id": "bf4cf77b",
   "metadata": {},
   "outputs": [],
   "source": [
    "# General settings\n",
    "SAMPLE_FREQ = sample_rate # sample frequency in Hz\n",
    "WINDOW_SIZE = 44100 # window size of the DFT in samples\n",
    "WINDOW_STEP = 21050 # step size of window\n",
    "WINDOW_T_LEN = WINDOW_SIZE / SAMPLE_FREQ # length of the window in seconds\n",
    "SAMPLE_T_LENGTH = 1 / SAMPLE_FREQ # length between two samples in seconds\n",
    "\n",
    "CONCERT_PITCH = 440\n",
    "ALL_NOTES = [\"A\",\"A#\",\"B\",\"C\",\"C#\",\"D\",\"D#\",\"E\",\"F\",\"F#\",\"G\",\"G#\"]\n",
    "\n",
    "def find_closest_note(pitch):\n",
    "  i = int(np.round(np.log2(pitch/CONCERT_PITCH)*12))\n",
    "  closest_note = ALL_NOTES[i%12] + str(4 + (i + 9) // 12)\n",
    "  closest_pitch = CONCERT_PITCH*2**(i/12)\n",
    "  return closest_note, closest_pitch"
   ]
  },
  {
   "cell_type": "code",
   "execution_count": 7,
   "id": "554adaad",
   "metadata": {},
   "outputs": [],
   "source": [
    "# Load the audio file\n",
    "audio_data = np.pad(audio_data, (0, WINDOW_SIZE - len(audio_data) % WINDOW_SIZE), 'constant')"
   ]
  },
  {
   "cell_type": "code",
   "execution_count": 11,
   "id": "fa5355c3",
   "metadata": {},
   "outputs": [],
   "source": [
    "# Split audio data into chunks of WINDOW_SIZE\n",
    "chunks = np.split(audio_data, len(audio_data) / WINDOW_SIZE)"
   ]
  },
  {
   "cell_type": "code",
   "execution_count": 13,
   "id": "470fa7b1",
   "metadata": {},
   "outputs": [
    {
     "name": "stdout",
     "output_type": "stream",
     "text": [
      "\u001b[H\u001b[2JClosest note: E5 662.5/659.3\n",
      "\u001b[H\u001b[2JClosest note: F#4 373.0/370.0\n",
      "\u001b[H\u001b[2JClosest note: F#5 741.0/740.0\n",
      "\u001b[H\u001b[2JClosest note: D#5 620.0/622.3\n",
      "\u001b[H\u001b[2JClosest note: E5 662.5/659.3\n",
      "\u001b[H\u001b[2JClosest note: F#5 738.0/740.0\n",
      "\u001b[H\u001b[2JClosest note: E5 661.0/659.3\n",
      "\u001b[H\u001b[2JClosest note: F5 702.5/698.5\n",
      "\u001b[H\u001b[2JClosest note: F#5 742.0/740.0\n",
      "\u001b[H\u001b[2JClosest note: E5 661.0/659.3\n",
      "\u001b[H\u001b[2JClosest note: F#4 370.5/370.0\n",
      "\u001b[H\u001b[2JClosest note: D#5 615.5/622.3\n",
      "\u001b[H\u001b[2JClosest note: E5 656.0/659.3\n",
      "\u001b[H\u001b[2JClosest note: C5 520.0/523.3\n",
      "\u001b[H\u001b[2JClosest note: E4 330.0/329.6\n",
      "\u001b[H\u001b[2JClosest note: E5 654.0/659.3\n",
      "\u001b[H\u001b[2JClosest note: C4 260.5/261.6\n",
      "\u001b[H\u001b[2JClosest note: D5 586.5/587.3\n",
      "\u001b[H\u001b[2JClosest note: E4 330.0/329.6\n",
      "\u001b[H\u001b[2JClosest note: D#5 619.0/622.3\n",
      "\u001b[H\u001b[2JClosest note: C4 260.0/261.6\n",
      "\u001b[H\u001b[2JClosest note: D#5 620.0/622.3\n",
      "\u001b[H\u001b[2JClosest note: E5 650.5/659.3\n",
      "\u001b[H\u001b[2JClosest note: E5 660.5/659.3\n",
      "\u001b[H\u001b[2JClosest note: E5 654.5/659.3\n",
      "\u001b[H\u001b[2JClosest note: C5 521.5/523.3\n",
      "\u001b[H\u001b[2JClosest note: E5 651.5/659.3\n",
      "\u001b[H\u001b[2JClosest note: F#5 732.5/740.0\n",
      "\u001b[H\u001b[2JClosest note: D#5 617.5/622.3\n",
      "\u001b[H\u001b[2JClosest note: A6 1740.5/1760.0\n",
      "\u001b[H\u001b[2JClosest note: F#5 737.5/740.0\n",
      "\u001b[H\u001b[2JClosest note: A6 1741.0/1760.0\n",
      "\u001b[H\u001b[2JClosest note: F#5 731.5/740.0\n",
      "\u001b[H\u001b[2JClosest note: A4 441.0/440.0\n",
      "\u001b[H\u001b[2JClosest note: A6 1741.0/1760.0\n"
     ]
    }
   ],
   "source": [
    "maxFreq_list = []\n",
    "\n",
    "# Process each chunk\n",
    "for windowSamples in chunks:\n",
    "  magnitudeSpec = abs(scipy.fftpack.fft(windowSamples)[:len(windowSamples)//2])\n",
    "\n",
    "  for i in range(int(62/(SAMPLE_FREQ/WINDOW_SIZE))):\n",
    "    magnitudeSpec[i] = 0 #suppress mains hum\n",
    "\n",
    "  maxInd = np.argmax(magnitudeSpec)\n",
    "  maxFreq = maxInd * (SAMPLE_FREQ/WINDOW_SIZE)\n",
    "  closestNote, closestPitch = find_closest_note(maxFreq)\n",
    "\n",
    "  os.system('cls' if os.name=='nt' else 'clear')\n",
    "  print(f\"Closest note: {closestNote} {maxFreq:.1f}/{closestPitch:.1f}\")\n",
    "\n",
    "  maxFreq_list.append(maxFreq)\n"
   ]
  },
  {
   "cell_type": "code",
   "execution_count": 14,
   "id": "732d21e5",
   "metadata": {},
   "outputs": [],
   "source": [
    "import matplotlib.pyplot as plt"
   ]
  },
  {
   "cell_type": "code",
   "execution_count": 16,
   "id": "8a2f9106",
   "metadata": {},
   "outputs": [
    {
     "data": {
      "text/plain": [
       "[<matplotlib.lines.Line2D at 0x7fd908743610>]"
      ]
     },
     "execution_count": 16,
     "metadata": {},
     "output_type": "execute_result"
    },
    {
     "data": {
      "image/png": "[encoded data removed]",
      "text/plain": [
       "<Figure size 432x288 with 1 Axes>"
      ]
     },
     "metadata": {
      "needs_background": "light"
     },
     "output_type": "display_data"
    }
   ],
   "source": [
    "plt.plot(maxFreq_list)"
   ]
  },
  {
   "cell_type": "code",
   "execution_count": null,
   "id": "6282bca6",
   "metadata": {},
   "outputs": [],
   "source": []
  }
 ],
 "metadata": {
  "kernelspec": {
   "display_name": "Python 3 (ipykernel)",
   "language": "python",
   "name": "python3"
  },
  "language_info": {
   "codemirror_mode": {
    "name": "ipython",
    "version": 3
   },
   "file_extension": ".py",
   "mimetype": "text/x-python",
   "name": "python",
   "nbconvert_exporter": "python",
   "pygments_lexer": "ipython3",
   "version": "3.9.7"
  }
 },
 "nbformat": 4,
 "nbformat_minor": 5
}
